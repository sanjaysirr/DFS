{
  "nbformat": 4,
  "nbformat_minor": 0,
  "metadata": {
    "colab": {
      "provenance": []
    },
    "kernelspec": {
      "name": "python3",
      "display_name": "Python 3"
    },
    "language_info": {
      "name": "python"
    }
  },
  "cells": [
    {
      "cell_type": "code",
      "execution_count": null,
      "metadata": {
        "id": "6WUMlK0w-HBH"
      },
      "outputs": [],
      "source": [
        "#dfs\n",
        "graph = {\n",
        "'A':['B','C','D'],\n",
        "'B':['E','F'],\n",
        "'C':['G','H'],\n",
        "'D':['I'],\n",
        "'E':[],\n",
        "'F':['J'],\n",
        "'G':[],\n",
        "'H':[],\n",
        "'I':['K','L'],\n",
        "'J':[],\n",
        "'K':[],\n",
        "'L':[]\n",
        "}\n",
        "visited = set()\n",
        "def dfs(visited, graph, node):\n",
        " if node not in visited:\n",
        "  print (node)\n",
        "  visited.add(node)\n",
        " for neighbour in graph[node]:\n",
        "    dfs(visited, graph, neighbour)\n",
        "print(\"Depth-First Search\")\n",
        "dfs(visited, graph, 'A')"
      ]
    }
  ]
}